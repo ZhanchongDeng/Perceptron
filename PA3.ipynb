{
 "cells": [
  {
   "cell_type": "markdown",
   "metadata": {},
   "source": [
    "# PA3 - Perceptron#"
   ]
  },
  {
   "cell_type": "markdown",
   "metadata": {},
   "source": [
    "Zhanchong Deng  \n"
   ]
  },
  {
   "cell_type": "markdown",
   "metadata": {},
   "source": [
    "A15491777  "
   ]
  },
  {
   "cell_type": "markdown",
   "metadata": {},
   "source": [
    "### Necessary Imports ####"
   ]
  },
  {
   "cell_type": "code",
   "execution_count": 1,
   "metadata": {},
   "outputs": [],
   "source": [
    "%load_ext autoreload\n",
    "%autoreload 2\n",
    "import numpy as np\n",
    "import pandas as pd\n",
    "import Perceptron as pa3"
   ]
  },
  {
   "cell_type": "markdown",
   "metadata": {},
   "source": [
    "### Import Data ####"
   ]
  },
  {
   "cell_type": "code",
   "execution_count": 2,
   "metadata": {},
   "outputs": [
    {
     "name": "stdout",
     "output_type": "stream",
     "text": [
      "(3000, 820)\n",
      "(1000, 820)\n",
      "(819,)\n"
     ]
    }
   ],
   "source": [
    "training = pa3.loadData('pa3train.txt')\n",
    "test = pa3.loadData('pa3test.txt')\n",
    "dictionary = pa3.loadDictionary('pa3dictionary.txt')\n",
    "print(training.shape)\n",
    "print(test.shape)\n",
    "print(dictionary.shape)"
   ]
  },
  {
   "cell_type": "markdown",
   "metadata": {},
   "source": [
    "### Classify Class 1 or Class 2"
   ]
  },
  {
   "cell_type": "markdown",
   "metadata": {},
   "source": [
    "Extract subset of training data with only class 1/2"
   ]
  },
  {
   "cell_type": "code",
   "execution_count": 3,
   "metadata": {},
   "outputs": [],
   "source": [
    "has1_and2 = (training[:,-1] == 1) | (training[:,-1] == 2)\n",
    "q1_training_set = training[has1_and2]\n",
    "has1_and2 = (test[:,-1] == 1) | (test[:,-1] == 2)\n",
    "q1_testing_set = test[has1_and2]\n",
    "# Sample for debugging\n",
    "sample = np.array([\n",
    "    [1,0,0,1],\n",
    "    [0,1,0,2],\n",
    "    [4,5,6,1],\n",
    "    [-1,9,-1,2]\n",
    "])"
   ]
  },
  {
   "cell_type": "markdown",
   "metadata": {},
   "source": [
    "Training with 4 iterations"
   ]
  },
  {
   "cell_type": "code",
   "execution_count": 4,
   "metadata": {},
   "outputs": [],
   "source": [
    "p = pa3.Perceptron()\n",
    "p.fit(q1_training_set, 1)"
   ]
  },
  {
   "cell_type": "markdown",
   "metadata": {},
   "source": [
    "Make sure errors are close to expected according to the PA (0.04, 0.07, 0.08)"
   ]
  },
  {
   "cell_type": "code",
   "execution_count": 5,
   "metadata": {
    "scrolled": true
   },
   "outputs": [
    {
     "name": "stdout",
     "output_type": "stream",
     "text": [
      "0.03853211009174312\n",
      "0.06605504587155964\n",
      "0.07706422018348624\n"
     ]
    }
   ],
   "source": [
    "for method in [\"single\", \"voted\", \"average\"]:\n",
    "    print(p.error(q1_training_set, method))"
   ]
  },
  {
   "cell_type": "markdown",
   "metadata": {},
   "source": [
    "___"
   ]
  },
  {
   "cell_type": "markdown",
   "metadata": {},
   "source": [
    "### 1) Printing Training/Test Errors for 2,3,4 passes "
   ]
  },
  {
   "cell_type": "code",
   "execution_count": 6,
   "metadata": {
    "scrolled": false
   },
   "outputs": [
    {
     "name": "stdout",
     "output_type": "stream",
     "text": [
      "Errors for 2 passes:\n",
      "\tsingle's training error is: 0.04\n",
      "\tsingle's testing error is: 0.06\n",
      "\tvoted's training error is: 0.04\n",
      "\tvoted's testing error is: 0.06\n",
      "\taverage's training error is: 0.05\n",
      "\taverage's testing error is: 0.08\n",
      "\n",
      "Errors for 3 passes:\n",
      "\tsingle's training error is: 0.02\n",
      "\tsingle's testing error is: 0.05\n",
      "\tvoted's training error is: 0.03\n",
      "\tvoted's testing error is: 0.04\n",
      "\taverage's training error is: 0.03\n",
      "\taverage's testing error is: 0.06\n",
      "\n",
      "Errors for 4 passes:\n",
      "\tsingle's training error is: 0.02\n",
      "\tsingle's testing error is: 0.05\n",
      "\tvoted's training error is: 0.02\n",
      "\tvoted's testing error is: 0.05\n",
      "\taverage's training error is: 0.03\n",
      "\taverage's testing error is: 0.05\n",
      "\n"
     ]
    }
   ],
   "source": [
    "for i in [2,3,4]:\n",
    "    # Retrain model\n",
    "    p = pa3.Perceptron()\n",
    "    p.fit(q1_training_set, i)\n",
    "    print(\"Errors for\", i, \"passes:\")\n",
    "    for method in [\"single\", \"voted\", \"average\"]:\n",
    "        print(\"\\t\" + method + \"'s training error is: \" + \"{0:.2f}\".format(p.error(q1_training_set, method)))\n",
    "        print(\"\\t\" + method + \"'s testing error is:\", \"{0:.2f}\".format(p.error(q1_testing_set, method)))\n",
    "    print()"
   ]
  },
  {
   "cell_type": "markdown",
   "metadata": {},
   "source": [
    "___"
   ]
  },
  {
   "cell_type": "markdown",
   "metadata": {},
   "source": [
    "### 2) Examine what w_average means"
   ]
  },
  {
   "cell_type": "markdown",
   "metadata": {},
   "source": [
    "Traing with 3 passes"
   ]
  },
  {
   "cell_type": "code",
   "execution_count": 7,
   "metadata": {},
   "outputs": [],
   "source": [
    "p = pa3.Perceptron()\n",
    "p.fit(q1_training_set, 3)"
   ]
  },
  {
   "cell_type": "markdown",
   "metadata": {},
   "source": [
    "Find highest 3/lowest 3 feature and their correspounding word"
   ]
  },
  {
   "cell_type": "code",
   "execution_count": 14,
   "metadata": {},
   "outputs": [
    {
     "name": "stdout",
     "output_type": "stream",
     "text": [
      "3 most negative are: ['he ', 'team ', 'game ']\n",
      "3 most positive are: ['line ', 'program ', 'file ']\n"
     ]
    }
   ],
   "source": [
    "words_sorted = pd.Series(p.w_average, index = dictionary).sort_values().index\n",
    "print(\"3 most negative are:\", words_sorted[:3].to_list())\n",
    "print(\"3 most positive are:\", words_sorted[-3:].to_list())"
   ]
  },
  {
   "cell_type": "markdown",
   "metadata": {},
   "source": [
    "**5) Code from ID3.py:**  \n",
    "```python\n",
    "print(\"hi\")\n",
    "```"
   ]
  },
  {
   "cell_type": "code",
   "execution_count": null,
   "metadata": {},
   "outputs": [],
   "source": []
  }
 ],
 "metadata": {
  "kernelspec": {
   "display_name": "Python 3",
   "language": "python",
   "name": "python3"
  },
  "language_info": {
   "codemirror_mode": {
    "name": "ipython",
    "version": 3
   },
   "file_extension": ".py",
   "mimetype": "text/x-python",
   "name": "python",
   "nbconvert_exporter": "python",
   "pygments_lexer": "ipython3",
   "version": "3.6.7"
  }
 },
 "nbformat": 4,
 "nbformat_minor": 2
}
